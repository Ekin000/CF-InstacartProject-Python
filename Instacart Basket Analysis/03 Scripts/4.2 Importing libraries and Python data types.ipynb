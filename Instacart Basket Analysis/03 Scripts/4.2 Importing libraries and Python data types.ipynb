{
 "cells": [
  {
   "cell_type": "code",
   "execution_count": 1,
   "id": "e9a5f6a2",
   "metadata": {},
   "outputs": [],
   "source": [
    "# import libraries  \n",
    "import pandas as pd \n",
    "import numpy as np \n",
    "import os"
   ]
  },
  {
   "cell_type": "code",
   "execution_count": 45,
   "id": "066714be",
   "metadata": {},
   "outputs": [],
   "source": [
    "a=25"
   ]
  },
  {
   "cell_type": "code",
   "execution_count": 46,
   "id": "7a76c7d4",
   "metadata": {},
   "outputs": [
    {
     "data": {
      "text/plain": [
       "int"
      ]
     },
     "execution_count": 46,
     "metadata": {},
     "output_type": "execute_result"
    }
   ],
   "source": [
    "type(a)"
   ]
  },
  {
   "cell_type": "code",
   "execution_count": 47,
   "id": "f77f9852",
   "metadata": {},
   "outputs": [],
   "source": [
    "b=4"
   ]
  },
  {
   "cell_type": "code",
   "execution_count": 48,
   "id": "21bcfce7",
   "metadata": {},
   "outputs": [
    {
     "data": {
      "text/plain": [
       "int"
      ]
     },
     "execution_count": 48,
     "metadata": {},
     "output_type": "execute_result"
    }
   ],
   "source": [
    "type(b)"
   ]
  },
  {
   "cell_type": "code",
   "execution_count": 49,
   "id": "bc699d4f",
   "metadata": {},
   "outputs": [
    {
     "data": {
      "text/plain": [
       "100"
      ]
     },
     "execution_count": 49,
     "metadata": {},
     "output_type": "execute_result"
    }
   ],
   "source": [
    "a*b"
   ]
  },
  {
   "cell_type": "code",
   "execution_count": 50,
   "id": "e9491001",
   "metadata": {},
   "outputs": [],
   "source": [
    "c=40"
   ]
  },
  {
   "cell_type": "code",
   "execution_count": 51,
   "id": "9d5d9c4b",
   "metadata": {},
   "outputs": [],
   "source": [
    "d=60"
   ]
  },
  {
   "cell_type": "code",
   "execution_count": 52,
   "id": "26ecfafe",
   "metadata": {},
   "outputs": [
    {
     "data": {
      "text/plain": [
       "100"
      ]
     },
     "execution_count": 52,
     "metadata": {},
     "output_type": "execute_result"
    }
   ],
   "source": [
    "c+d"
   ]
  },
  {
   "cell_type": "code",
   "execution_count": 53,
   "id": "12a1af4a",
   "metadata": {},
   "outputs": [],
   "source": [
    "e=110"
   ]
  },
  {
   "cell_type": "code",
   "execution_count": 59,
   "id": "d2588204",
   "metadata": {},
   "outputs": [],
   "source": [
    "f=10"
   ]
  },
  {
   "cell_type": "code",
   "execution_count": 60,
   "id": "d80bf95e",
   "metadata": {},
   "outputs": [
    {
     "data": {
      "text/plain": [
       "100"
      ]
     },
     "execution_count": 60,
     "metadata": {},
     "output_type": "execute_result"
    }
   ],
   "source": [
    "e-f"
   ]
  },
  {
   "cell_type": "code",
   "execution_count": 63,
   "id": "616d76ff",
   "metadata": {},
   "outputs": [],
   "source": [
    "g=30.8"
   ]
  },
  {
   "cell_type": "code",
   "execution_count": 64,
   "id": "654cd944",
   "metadata": {},
   "outputs": [
    {
     "data": {
      "text/plain": [
       "float"
      ]
     },
     "execution_count": 64,
     "metadata": {},
     "output_type": "execute_result"
    }
   ],
   "source": [
    "type(g)"
   ]
  },
  {
   "cell_type": "code",
   "execution_count": 66,
   "id": "df4114dd",
   "metadata": {},
   "outputs": [],
   "source": [
    "h=2.2"
   ]
  },
  {
   "cell_type": "code",
   "execution_count": 67,
   "id": "25824239",
   "metadata": {},
   "outputs": [
    {
     "data": {
      "text/plain": [
       "float"
      ]
     },
     "execution_count": 67,
     "metadata": {},
     "output_type": "execute_result"
    }
   ],
   "source": [
    "type(h)"
   ]
  },
  {
   "cell_type": "code",
   "execution_count": 68,
   "id": "ab24c8d0",
   "metadata": {},
   "outputs": [
    {
     "data": {
      "text/plain": [
       "14.0"
      ]
     },
     "execution_count": 68,
     "metadata": {},
     "output_type": "execute_result"
    }
   ],
   "source": [
    "g/h"
   ]
  },
  {
   "cell_type": "code",
   "execution_count": 70,
   "id": "f543915f",
   "metadata": {},
   "outputs": [],
   "source": [
    "i='Hello '"
   ]
  },
  {
   "cell_type": "code",
   "execution_count": 76,
   "id": "4f57081d",
   "metadata": {},
   "outputs": [],
   "source": [
    "j='Dana, '"
   ]
  },
  {
   "cell_type": "code",
   "execution_count": 77,
   "id": "fa734b97",
   "metadata": {},
   "outputs": [
    {
     "data": {
      "text/plain": [
       "'Hello Dana, '"
      ]
     },
     "execution_count": 77,
     "metadata": {},
     "output_type": "execute_result"
    }
   ],
   "source": [
    "i+j"
   ]
  },
  {
   "cell_type": "code",
   "execution_count": 74,
   "id": "316b7f76",
   "metadata": {},
   "outputs": [],
   "source": [
    "k='hope you`ve had a great vacation:)'"
   ]
  },
  {
   "cell_type": "code",
   "execution_count": 78,
   "id": "d789b9c6",
   "metadata": {},
   "outputs": [
    {
     "data": {
      "text/plain": [
       "'Hello Dana, hope you`ve had a great vacation:)'"
      ]
     },
     "execution_count": 78,
     "metadata": {},
     "output_type": "execute_result"
    }
   ],
   "source": [
    "i+j+k"
   ]
  },
  {
   "cell_type": "code",
   "execution_count": 81,
   "id": "f94d392b",
   "metadata": {},
   "outputs": [],
   "source": [
    "l='Greetings '"
   ]
  },
  {
   "cell_type": "code",
   "execution_count": 82,
   "id": "0a8c1cf5",
   "metadata": {},
   "outputs": [
    {
     "data": {
      "text/plain": [
       "'Greetings Greetings Greetings Greetings Greetings Greetings Greetings Greetings Greetings Greetings Greetings Greetings Greetings Greetings Greetings Greetings Greetings Greetings Greetings Greetings Greetings Greetings Greetings Greetings Greetings Greetings Greetings Greetings Greetings Greetings Greetings Greetings Greetings Greetings Greetings Greetings Greetings Greetings Greetings Greetings Greetings Greetings Greetings Greetings Greetings Greetings Greetings Greetings Greetings Greetings Greetings Greetings Greetings Greetings Greetings Greetings Greetings Greetings Greetings Greetings Greetings Greetings Greetings Greetings Greetings Greetings Greetings Greetings Greetings Greetings Greetings Greetings Greetings Greetings Greetings Greetings Greetings Greetings Greetings Greetings Greetings Greetings Greetings Greetings Greetings Greetings Greetings Greetings Greetings Greetings Greetings Greetings Greetings Greetings Greetings Greetings Greetings Greetings Greetings Greetings '"
      ]
     },
     "execution_count": 82,
     "metadata": {},
     "output_type": "execute_result"
    }
   ],
   "source": [
    "l*100"
   ]
  }
 ],
 "metadata": {
  "kernelspec": {
   "display_name": "Python 3",
   "language": "python",
   "name": "python3"
  },
  "language_info": {
   "codemirror_mode": {
    "name": "ipython",
    "version": 3
   },
   "file_extension": ".py",
   "mimetype": "text/x-python",
   "name": "python",
   "nbconvert_exporter": "python",
   "pygments_lexer": "ipython3",
   "version": "3.8.8"
  }
 },
 "nbformat": 4,
 "nbformat_minor": 5
}
